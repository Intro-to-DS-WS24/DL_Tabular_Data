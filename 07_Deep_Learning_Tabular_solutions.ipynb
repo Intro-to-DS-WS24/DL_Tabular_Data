{
 "cells": [
  {
   "cell_type": "markdown",
   "metadata": {
    "slideshow": {
     "slide_type": "slide"
    }
   },
   "source": [
    "# Deep Learning on Tabular Data Solutions\n"
   ]
  },
  {
   "cell_type": "markdown",
   "metadata": {},
   "source": [
    "## Exercises - XOR Problem"
   ]
  },
  {
   "cell_type": "markdown",
   "metadata": {},
   "source": [
    "The XOR (exclusive OR) is a logical operation that takes two binary outputs and returns TRUE if exactly one of them is TRUE. For example:\n",
    "- f(1, 0) = 1\n",
    "- f(1, 1) = 0\n",
    "- f(0, 1) = 1\n",
    "- f(0, 0) = 0\n",
    "\n",
    "With `f` as an arbitrary function. We provide you a XOR-like dataset with 80 samples and 2 labels as below:"
   ]
  },
  {
   "cell_type": "code",
   "execution_count": 8,
   "metadata": {},
   "outputs": [
    {
     "data": {
      "image/png": "[encoded data removed]",
      "text/plain": [
       "<Figure size 640x480 with 1 Axes>"
      ]
     },
     "metadata": {},
     "output_type": "display_data"
    }
   ],
   "source": [
    "# ONLY RUN & DO NOT MODIFY\n",
    "import numpy as np\n",
    "import matplotlib.pyplot as plt\n",
    "\n",
    "# Create XOR dataset\n",
    "np.random.seed(0)\n",
    "\n",
    "# Create points around the corners of the XOR problem\n",
    "X_corners = np.array([[0, 0], [0, 1], [1, 0], [1, 1]])\n",
    "y_corners = np.array([0, 1, 1, 0])\n",
    "\n",
    "# Generate additional random samples in each quadrant\n",
    "num_samples_per_corner = 20\n",
    "X_samples = []\n",
    "y_samples = []\n",
    "\n",
    "for x, y in X_corners:\n",
    "    # Generate samples around each corner\n",
    "    X_samples.append(np.random.rand(num_samples_per_corner, 2) * 0.2 + np.array([x - 0.1, y - 0.1]))\n",
    "    y_samples.append(np.full((num_samples_per_corner,), y_corners[np.where((X_corners == [x, y]).all(axis=1))[0][0]]))\n",
    "\n",
    "X_samples = np.vstack(X_samples)\n",
    "y_samples = np.concatenate(y_samples)\n",
    "\n",
    "# Step 2: Split Data into Training and Validation Sets\n",
    "# Ensure that each class is represented in both sets\n",
    "indices = np.arange(len(X_samples))\n",
    "np.random.shuffle(indices)\n",
    "\n",
    "# Manually split to maintain distribution\n",
    "train_indices = []\n",
    "val_indices = []\n",
    "\n",
    "for i in range(4):  # For each corner\n",
    "    corner_indices = indices[i*num_samples_per_corner:(i+1)*num_samples_per_corner]\n",
    "    train_indices.extend(corner_indices[:int(num_samples_per_corner * 0.7)])  # 70% for training\n",
    "    val_indices.extend(corner_indices[int(num_samples_per_corner * 0.7):])    # 30% for validation\n",
    "\n",
    "train_X_xor = X_samples[train_indices]\n",
    "train_y_xor = y_samples[train_indices]\n",
    "val_X_xor = X_samples[val_indices]\n",
    "val_y_xor = y_samples[val_indices]\n",
    "\n",
    "plt.scatter(X_samples[y_samples == 0][:, 0], X_samples[y_samples == 0][:, 1], color='red', label='Class 0')\n",
    "plt.scatter(X_samples[y_samples == 1][:, 0], X_samples[y_samples == 1][:, 1], color='blue', label='Class 1')\n",
    "plt.title('XOR Dataset')\n",
    "plt.xlabel('Feature 1')\n",
    "plt.ylabel('Feature 2')\n",
    "plt.legend()\n",
    "plt.show()"
   ]
  },
  {
   "cell_type": "markdown",
   "metadata": {},
   "source": [
    "Your tasks are:\n",
    "\n",
    "1. Define an MLP with one hidden layer and fit this dataset. Run 1000 iteration.\n",
    "2. Define an MLP with 8 hidden layers and fit this dataset. Run 1000 iteration.\n",
    "3. Look at the decision boundary, and try to explain the results. Hint: check which model provides better decision boundary, and why it is the case.\n",
    "\n",
    "Hint: use `train_X_xor, train_y_xor` for training, and `val_X_xor`, `val_y_xor` for testing."
   ]
  },
  {
   "cell_type": "code",
   "execution_count": 9,
   "metadata": {},
   "outputs": [
    {
     "data": {
      "text/plain": [
       "0.3333333333333333"
      ]
     },
     "execution_count": 9,
     "metadata": {},
     "output_type": "execute_result"
    }
   ],
   "source": [
    "# YOUR CODE HERE\n",
    "# define, fit, and predict the first model with one hidden layer. \n",
    "# Hint 1: MLPClassifier(hidden_layer_sizes=(number_layer, ), max_iter=num_iterations)\n",
    "# Hint 2: the accuracy should never reach 80% \n",
    "mlp_hidden_1 = MLPClassifier(hidden_layer_sizes=(1,), max_iter=1000) # define the model\n",
    "mlp_hidden_1.fit(train_X_xor, train_y_xor) # fit the model\n",
    "preds_hidden_1 = mlp_hidden_1.predict(val_X_xor) # predict the model\n",
    "accuracy_score(val_y_xor, preds_hidden_1) # compute the accuracy"
   ]
  },
  {
   "cell_type": "code",
   "execution_count": 11,
   "metadata": {},
   "outputs": [
    {
     "data": {
      "text/plain": [
       "1.0"
      ]
     },
     "execution_count": 11,
     "metadata": {},
     "output_type": "execute_result"
    }
   ],
   "source": [
    "# YOUR CODE HERE\n",
    "# define, fit, and predict the first model with 8 hidden layers. \n",
    "# Hint 1: MLPClassifier(hidden_layer_sizes=(number_layer, ), max_iter=num_iterations)\n",
    "# Hint 2: the accuracy can reach 100%. Try to re-run until you get accuracy=1.0\n",
    "mlp_hidden_8 = MLPClassifier(hidden_layer_sizes=(8,), max_iter=1000) # define the model\n",
    "mlp_hidden_8.fit(train_X_xor, train_y_xor) # fit the model\n",
    "preds_hidden_8 = mlp_hidden_8.predict(val_X_xor) # predict the model\n",
    "accuracy_score(val_y_xor, preds_hidden_8) # compute the accuracy"
   ]
  },
  {
   "cell_type": "markdown",
   "metadata": {},
   "source": [
    "- The XOR function outputs TRUE only when the inputs differ, which means that the data points corresponding to the outputs cannot be separated by a single linear decision boundary. This arrangement requires at least two linear boundaries to classify correctly, which a single-layer MLP cannot provide. \n",
    "\n",
    "- Adding more hidden layers to an MLP enhances its capability to learn more non-linear complex functions like XOR, thanks to many activation layers stacked together. The multi-layer approach allows the network to approximate non-linear functions effectively, as it can create multiple decision boundaries.\n",
    "\n",
    "- Stacking hidden layers to improve the performance can be explained through the Universal Approximation Theorem, which states that a feedforward neural network with at least one hidden layer containing a finite number of neurons can approximate any continuous function on compact subsets of $\\mathbb{R}^n$. However, it only tells you that such function exists, but it does not describe how it looks like. The learning process can be further improved by combatting against overfitting or vanishing/exploding gradients, which are not the main goal of this lecture.\n"
   ]
  },
  {
   "cell_type": "markdown",
   "metadata": {},
   "source": [
    "# Exercise\n",
    "Note here that we have an additional categorical column called `education-num_na`. Why?"
   ]
  },
  {
   "cell_type": "markdown",
   "metadata": {},
   "source": [
    "The `FillMissing` processor imputes missing values and, for columns with missing data, automatically adds a new column with the suffix `_na` to mark which rows originally had missing values. Since the `education-num` column contains missing values, it will create a new column called `education-num_na`, where 1 indicates a missing value was imputed, and 0 shows the value was not missing."
   ]
  },
  {
   "cell_type": "markdown",
   "metadata": {},
   "source": [
    "# Exercise\n",
    "Can you explain the individual components of the previous outputs? I.e. what is contained in the individual tensors? (Hint: look at the dimensions of the tensors)"
   ]
  },
  {
   "cell_type": "markdown",
   "metadata": {},
   "source": [
    "The function `one_batch` returns a single batch of training data for you to inspect. It contains a tuple of the input features and the target, encoded in tensor objects. The structure of the tensor depends on how the features and targets are processed. In this particular case, we can see that the first tensor consists of the categorical encoded features used for predictions or classification. The shape shows that each row corresponds to one data point, and the columns represent the different features. The same holds for the other tensors.\n",
    "The second tensor then represents the normalized continuous features (age, fnlwgt and education-num) and the third one the target."
   ]
  }
 ],
 "metadata": {
  "celltoolbar": "Slideshow",
  "kernelspec": {
   "display_name": "teaching",
   "language": "python",
   "name": "python3"
  },
  "language_info": {
   "codemirror_mode": {
    "name": "ipython",
    "version": 3
   },
   "file_extension": ".py",
   "mimetype": "text/x-python",
   "name": "python",
   "nbconvert_exporter": "python",
   "pygments_lexer": "ipython3",
   "version": "3.10.15"
  },
  "rise": {
   "enable_chalkboard": false,
   "overlay": "<div class='background'></div><div class='header'>WS 23/24</br>TDS 2</div><div class='logo'><img src='images/d3logo.png'></div><div class='bar'></div>",
   "scroll": true,
   "slideNumber": "h.v"
  }
 },
 "nbformat": 4,
 "nbformat_minor": 4
}
